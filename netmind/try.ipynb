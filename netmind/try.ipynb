{
 "cells": [
  {
   "cell_type": "code",
   "execution_count": 3,
   "metadata": {},
   "outputs": [],
   "source": [
    "from pymilvus import (\n",
    "    connections,\n",
    "    utility,\n",
    "    FieldSchema,\n",
    "    CollectionSchema,\n",
    "    DataType,\n",
    "    Collection,\n",
    "    db,\n",
    ")"
   ]
  },
  {
   "cell_type": "code",
   "execution_count": 4,
   "metadata": {},
   "outputs": [],
   "source": [
    "conn = connections.connect(\n",
    "  alias=\"default\",\n",
    "  user='root',\n",
    "  password='Milvus',\n",
    "  host='localhost',\n",
    "  port='19530'\n",
    ")"
   ]
  },
  {
   "cell_type": "code",
   "execution_count": 5,
   "metadata": {},
   "outputs": [],
   "source": [
    "database = db.create_database(\"gaming\")\n",
    "db.using_database(\"gaming\")"
   ]
  },
  {
   "cell_type": "markdown",
   "metadata": {},
   "source": [
    "### Create the memory_stream collection"
   ]
  },
  {
   "cell_type": "code",
   "execution_count": 7,
   "metadata": {},
   "outputs": [],
   "source": [
    "memory_id = FieldSchema(\n",
    "    name=\"id\",\n",
    "    dtype=DataType.INT64,\n",
    "    is_primary=True,\n",
    ")\n",
    "\n",
    "# suppose there is a MySQL database, maintaining information about the character, including their state and attributes\n",
    "# this field records the primary key of character\n",
    "character_id = FieldSchema(\n",
    "    name=\"character_id\",\n",
    "    dtype=DataType.INT64\n",
    ")\n",
    "\n",
    "importance = FieldSchema(\n",
    "  name=\"importance\",\n",
    "  dtype=DataType.INT8,\n",
    ")\n",
    "\n",
    "create_time = FieldSchema(\n",
    "  name=\"create_time\",\n",
    "  dtype=DataType.VARCHAR,\n",
    "  max_length=50,\n",
    ")\n",
    "\n",
    "# three types: observation, reflection and plan\n",
    "# this is the field used to partition\n",
    "category = FieldSchema(\n",
    "  name=\"category\",\n",
    "  dtype=DataType.VARCHAR,\n",
    "  max_length=50,\n",
    ")\n",
    "\n",
    "vector = FieldSchema(\n",
    "  name=\"memory_vector\",\n",
    "  dtype=DataType.FLOAT_VECTOR,  # BINARY_VECTOR or FLOAT_VECTOR\n",
    "  default_value=[[1.0] * 8848],\n",
    "  dim=8848\n",
    ")\n",
    "\n",
    "content = FieldSchema(\n",
    "    name=\"real_memory\",\n",
    "    dtype=DataType.VARCHAR,\n",
    "    max_length=9999,\n",
    "    default_value=\"Unknown\"\n",
    ")"
   ]
  },
  {
   "cell_type": "code",
   "execution_count": 8,
   "metadata": {},
   "outputs": [],
   "source": [
    "coll_schema = CollectionSchema(\n",
    "  fields=[memory_id, character_id, importance, create_time, category, vector, content],\n",
    "  description=\"memory\",\n",
    "  \n",
    "  # 不开启 dynamic 意味着之后插入的所有数据实体都要与 schema 匹配；而开启后，可以插入具有新字段的实体，有点类似 nonsql\n",
    "  # https://milvus.io/docs/dynamic_schema.md#Create-collection-with-dynamic-schema-enabled\n",
    "  enable_dynamic_field=True\n",
    ")\n",
    "\n",
    "collection_name = \"character_memory\"\n",
    "\n",
    "collection = Collection(\n",
    "    name=collection_name,\n",
    "    schema=coll_schema,\n",
    "    using='default',  # 在哪个 server 上创建 collection\n",
    "    shards_num=1,  # 把写入操作分配到 2 个不同的 node / server 上并行进行\n",
    ")"
   ]
  },
  {
   "cell_type": "code",
   "execution_count": 11,
   "metadata": {},
   "outputs": [
    {
     "data": {
      "text/plain": [
       "{\"name\":\"long_term_plan\",\"collection_name\":\"character_memory\",\"description\":\"\"}"
      ]
     },
     "execution_count": 11,
     "metadata": {},
     "output_type": "execute_result"
    }
   ],
   "source": [
    "# create the partitions\n",
    "\n",
    "collection = Collection(\"character_memory\")    \n",
    "collection.create_partition(\"observation\")\n",
    "collection.create_partition(\"reflection\")\n",
    "collection.create_partition(\"long_term_plan\")"
   ]
  },
  {
   "cell_type": "markdown",
   "metadata": {},
   "source": [
    "### create the chat_dialog collection"
   ]
  },
  {
   "cell_type": "code",
   "execution_count": 9,
   "metadata": {},
   "outputs": [],
   "source": [
    "dialog_id = FieldSchema(\n",
    "    name=\"id\",\n",
    "    dtype=DataType.INT64,\n",
    "    is_primary=True,\n",
    ")\n",
    "\n",
    "# the primary key of speaking character\n",
    "source_id = FieldSchema(\n",
    "    name=\"source_id\",\n",
    "    dtype=DataType.INT64\n",
    ")\n",
    "\n",
    "target_id = FieldSchema(\n",
    "  name=\"target_id\",\n",
    "    dtype=DataType.INT64\n",
    ")\n",
    "\n",
    "create_time = FieldSchema(\n",
    "  name=\"create_time\",\n",
    "  dtype=DataType.VARCHAR,\n",
    "  max_length=50,\n",
    ")\n",
    "\n",
    "vector = FieldSchema(\n",
    "  name=\"dialog_vector\",\n",
    "  dtype=DataType.FLOAT_VECTOR,  # BINARY_VECTOR or FLOAT_VECTOR\n",
    "  default_value=\"Unknown\",\n",
    "  dim=8848\n",
    ")\n",
    "\n",
    "content = FieldSchema(\n",
    "    name=\"real_dialog\",\n",
    "    dtype=DataType.VARCHAR,\n",
    "    max_length=9999,\n",
    "    default_value=\"Unknown\"\n",
    ")"
   ]
  },
  {
   "cell_type": "code",
   "execution_count": 10,
   "metadata": {},
   "outputs": [],
   "source": [
    "coll_schema = CollectionSchema(\n",
    "  fields=[dialog_id, source_id, create_time, target_id, vector, content],\n",
    "  description=\"dialog\",\n",
    "  \n",
    "  # 不开启 dynamic 意味着之后插入的所有数据实体都要与 schema 匹配；而开启后，可以插入具有新字段的实体，有点类似 nonsql\n",
    "  # https://milvus.io/docs/dynamic_schema.md#Create-collection-with-dynamic-schema-enabled\n",
    "  enable_dynamic_field=True\n",
    ")\n",
    "\n",
    "collection_name = \"dialog_history\"\n",
    "\n",
    "\n",
    "collection = Collection(\n",
    "    name=collection_name,\n",
    "    schema=coll_schema,\n",
    "    using='default',  # 在哪个 server 上创建 collection\n",
    "    shards_num=1  # 把写入操作分配到 2 个不同的 node / server 上并行进行\n",
    ")"
   ]
  },
  {
   "cell_type": "code",
   "execution_count": null,
   "metadata": {},
   "outputs": [],
   "source": []
  },
  {
   "cell_type": "code",
   "execution_count": null,
   "metadata": {},
   "outputs": [],
   "source": []
  },
  {
   "cell_type": "code",
   "execution_count": 63,
   "metadata": {},
   "outputs": [
    {
     "data": {
      "text/plain": [
       "{\"name\":\"observation\",\"collection_name\":\"character_memory\",\"description\":\"\"}"
      ]
     },
     "execution_count": 63,
     "metadata": {},
     "output_type": "execute_result"
    }
   ],
   "source": []
  },
  {
   "cell_type": "code",
   "execution_count": 64,
   "metadata": {},
   "outputs": [],
   "source": [
    "data = [\n",
    "  [i for i in range(20)],\n",
    "  [i for i in range(20)],\n",
    "  [2 for i in range(20)],\n",
    "  [\"2029-1-1\" for _ in range(20)],\n",
    "  [\"obser\" for _ in range(20)],\n",
    "  [[1.0] * 8848 for _ in range(20)],\n",
    "  [\"aaaa\" for _ in range(20)]\n",
    "]"
   ]
  },
  {
   "cell_type": "code",
   "execution_count": 65,
   "metadata": {},
   "outputs": [
    {
     "data": {
      "text/plain": [
       "(insert count: 20, delete count: 0, upsert count: 0, timestamp: 447111624051392515, success count: 20, err count: 0)"
      ]
     },
     "execution_count": 65,
     "metadata": {},
     "output_type": "execute_result"
    }
   ],
   "source": [
    "collection.insert(data, 'observation') "
   ]
  },
  {
   "cell_type": "code",
   "execution_count": 66,
   "metadata": {},
   "outputs": [
    {
     "data": {
      "text/plain": [
       "{'total_rows': 0, 'indexed_rows': 0, 'pending_index_rows': 0}"
      ]
     },
     "execution_count": 66,
     "metadata": {},
     "output_type": "execute_result"
    }
   ],
   "source": [
    "from pymilvus import Collection, utility\n",
    "\n",
    "index_params = {\n",
    "  \"metric_type\":\"L2\",\n",
    "  \"index_type\":\"IVF_FLAT\",\n",
    "  \"params\":{\"nlist\":2}\n",
    "}\n",
    "\n",
    "collection = Collection(\"character_memory\")      \n",
    "collection.create_index(\n",
    "  field_name=\"memory_vector\", \n",
    "  index_params=index_params\n",
    ")\n",
    "\n",
    "utility.index_building_progress(\"character_memory\")"
   ]
  },
  {
   "cell_type": "code",
   "execution_count": 67,
   "metadata": {},
   "outputs": [],
   "source": [
    "from pymilvus import Partition\n",
    "\n",
    "partition = Partition(\"character_memory\", \"observation\")       # Get an existing partition.\n",
    "partition.load(replica_number=1)"
   ]
  }
 ],
 "metadata": {
  "kernelspec": {
   "display_name": "XYZ",
   "language": "python",
   "name": "python3"
  },
  "language_info": {
   "codemirror_mode": {
    "name": "ipython",
    "version": 3
   },
   "file_extension": ".py",
   "mimetype": "text/x-python",
   "name": "python",
   "nbconvert_exporter": "python",
   "pygments_lexer": "ipython3",
   "version": "3.10.13"
  }
 },
 "nbformat": 4,
 "nbformat_minor": 2
}
